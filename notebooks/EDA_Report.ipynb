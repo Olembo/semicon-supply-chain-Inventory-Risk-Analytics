{
 "cells": [
  {
   "cell_type": "markdown",
   "id": "74eeb21d",
   "metadata": {},
   "source": [
    "## Step 3.1 – Delivery Delay Distribution"
   ]
  },
  {
   "cell_type": "code",
   "execution_count": null,
   "id": "b9e1c424",
   "metadata": {},
   "outputs": [],
   "source": [
    "SELECT \n",
    "    delivery_status,\n",
    "    COUNT(*) AS num_deliveries,\n",
    "    ROUND(COUNT(*) / (SELECT COUNT(*) FROM delivery_logs) * 100, 2) AS pct_deliveries,\n",
    "    ROUND(AVG(DATEDIFF(actual_delivery_date, expected_delivery_date)), 2) AS avg_delay_days\n",
    "FROM delivery_logs\n",
    "GROUP BY delivery_status\n",
    "ORDER BY num_deliveries DESC;"
   ]
  },
  {
   "cell_type": "markdown",
   "id": "c8f5af4f",
   "metadata": {},
   "source": [
    "**Insight:** ~37% of shipments are delayed, averaging 2.08 days late."
   ]
  },
  {
   "cell_type": "markdown",
   "id": "07a1365a",
   "metadata": {},
   "source": [
    "## Step 3.2 – Average Lead Time per Supplier"
   ]
  },
  {
   "cell_type": "code",
   "execution_count": null,
   "id": "f3e429a1",
   "metadata": {},
   "outputs": [],
   "source": [
    "SELECT \n",
    "    s.supplier_name,\n",
    "    s.country,\n",
    "    ROUND(AVG(DATEDIFF(actual_delivery_date, order_date)), 2) AS avg_lead_time_days,\n",
    "    COUNT(*) AS num_orders\n",
    "FROM delivery_logs d\n",
    "JOIN suppliers s ON d.supplier_id = s.supplier_id\n",
    "WHERE actual_delivery_date IS NOT NULL\n",
    "GROUP BY s.supplier_name, s.country\n",
    "ORDER BY avg_lead_time_days DESC\n",
    "LIMIT 10;"
   ]
  },
  {
   "cell_type": "markdown",
   "id": "763b0429",
   "metadata": {},
   "source": [
    "**Insight:** All top suppliers have ~38–39 day lead times, consistent for high-value semiconductor components."
   ]
  },
  {
   "cell_type": "markdown",
   "id": "5de561d8",
   "metadata": {},
   "source": [
    "## Step 3.3 – Stock-Out Frequency"
   ]
  },
  {
   "cell_type": "code",
   "execution_count": null,
   "id": "ff13115f",
   "metadata": {},
   "outputs": [],
   "source": [
    "SELECT \n",
    "    c.category,\n",
    "    COUNT(*) AS stockout_days\n",
    "FROM inventory_levels i\n",
    "JOIN components c ON i.component_id = c.component_id\n",
    "WHERE i.closing_stock = 0\n",
    "GROUP BY c.category\n",
    "ORDER BY stockout_days DESC;"
   ]
  },
  {
   "cell_type": "markdown",
   "id": "e1ce0fc7",
   "metadata": {},
   "source": [
    "**Insight:** High-volume consumables like Carrier Tapes/Trays have the most stock-out days, creating recurring micro-delays."
   ]
  },
  {
   "cell_type": "markdown",
   "id": "806c1686",
   "metadata": {},
   "source": [
    "## Step 3.4 – Overstock vs. Safety Stock"
   ]
  },
  {
   "cell_type": "code",
   "execution_count": null,
   "id": "b2f207db",
   "metadata": {},
   "outputs": [],
   "source": [
    "SELECT \n",
    "    c.category,\n",
    "    COUNT(*) AS overstock_days,\n",
    "    ROUND(COUNT(*) / (SELECT COUNT(*) FROM inventory_levels) * 100, 2) AS pct_overstock_days\n",
    "FROM inventory_levels i\n",
    "JOIN components c \n",
    "    ON i.component_id = c.component_id\n",
    "WHERE i.closing_stock > c.safety_stock_units\n",
    "GROUP BY c.category\n",
    "ORDER BY overstock_days DESC;"
   ]
  },
  {
   "cell_type": "markdown",
   "id": "485f3b75",
   "metadata": {},
   "source": [
    "**Insight:** Overstock is rare (<1% for most categories); the bigger risk is frequent stock-outs."
   ]
  },
  {
   "cell_type": "markdown",
   "id": "bc7f3cd8",
   "metadata": {},
   "source": [
    "## Step 3.5 – Forecast Accuracy (MAPE) by Category"
   ]
  },
  {
   "cell_type": "code",
   "execution_count": null,
   "id": "1c394eb6",
   "metadata": {},
   "outputs": [],
   "source": [
    "SELECT \n",
    "    c.category,\n",
    "    ROUND(AVG(ABS(f.forecast_units - po.actual_units) / f.forecast_units) * 100, 2) AS avg_forecast_error_pct\n",
    "FROM forecasts f\n",
    "JOIN (\n",
    "    SELECT \n",
    "        DATE_FORMAT(date, '%Y-%m') AS month,\n",
    "        component_id,\n",
    "        SUM(units_required) AS actual_units\n",
    "    FROM production_orders\n",
    "    GROUP BY month, component_id\n",
    ") po \n",
    "  ON f.month = po.month AND f.component_id = po.component_id\n",
    "JOIN components c ON f.component_id = c.component_id\n",
    "GROUP BY c.category\n",
    "ORDER BY avg_forecast_error_pct DESC;"
   ]
  },
  {
   "cell_type": "markdown",
   "id": "8029526f",
   "metadata": {},
   "source": [
    "**Insight:** Forecast errors range from 20–23% across categories, indicating consistent bias/volatility."
   ]
  }
 ],
 "metadata": {},
 "nbformat": 4,
 "nbformat_minor": 5
}
