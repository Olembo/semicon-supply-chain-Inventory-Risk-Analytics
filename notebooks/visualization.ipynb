{
 "cells": [
  {
   "cell_type": "code",
   "execution_count": null,
   "id": "8a2d8a71",
   "metadata": {},
   "outputs": [],
   "source": [
    "# Robust loader for delivery logs: find, standardize, and load\n",
    "from pathlib import Path\n",
    "import shutil\n",
    "import pandas as pd"
   ]
  },
  {
   "cell_type": "code",
   "execution_count": null,
   "id": "477f1d30",
   "metadata": {},
   "outputs": [],
   "source": [
    "# 1) Search candidates\n",
    "roots = [Path(\"clean_data\"), Path(\"cleaned_data\"), Path(\"raw_data\"), Path(\".\")]\n",
    "patterns = [\n",
    "    \"*delivery_logs*.csv\", \"*delivery_log*.csv\",\n",
    "    \"*Delivery_Logs*.csv\", \"*Delivery_Log*.csv\"\n",
    "]\n",
    "\n",
    "candidates = []\n",
    "for root in roots:\n",
    "    if root.exists():\n",
    "        for pat in patterns:\n",
    "            candidates.extend(root.glob(pat))"
   ]
  },
  {
   "cell_type": "code",
   "execution_count": null,
   "id": "d7cc8b7d",
   "metadata": {},
   "outputs": [],
   "source": [
    "# 2) Pick the best candidate (prefer cleaned over raw, plural over singular)\n",
    "def rank(p: Path) -> tuple:\n",
    "    score = 0\n",
    "    name = p.name.lower()\n",
    "    parent = p.parent.name.lower()\n",
    "    if \"clean\" in parent: score += 3\n",
    "    if \"raw\" in parent:   score += 1\n",
    "    if \"logs\" in name:    score += 2\n",
    "    if \"clean\" in name:   score += 2\n",
    "    return (-score, len(name))  # smaller tuple is better\n",
    "\n",
    "if not candidates:\n",
    "    raise FileNotFoundError(\n",
    "        \"Could not find a delivery logs CSV. \"\n",
    "        \"Expected something like 'delivery_logs.csv' in clean_data/, cleaned_data/, or raw_data/.\"\n",
    "    )\n",
    "\n",
    "best = sorted(candidates, key=rank)[0]\n",
    "print(f\" Found delivery logs file: {best}\")"
   ]
  },
  {
   "cell_type": "code",
   "execution_count": null,
   "id": "7f9edd7e",
   "metadata": {},
   "outputs": [],
   "source": [
    "# 3) Standardize path: copy to clean_data/delivery_logs.csv\n",
    "clean_dir = Path(\"clean_data\")\n",
    "clean_dir.mkdir(parents=True, exist_ok=True)\n",
    "canonical = clean_dir / \"delivery_logs.csv\"\n",
    "if best.resolve() != canonical.resolve():\n",
    "    shutil.copy2(best, canonical)\n",
    "    print(f\" Copied to canonical path: {canonical}\")\n",
    "else:\n",
    "    print(f\" Already at canonical path: {canonical}\")"
   ]
  },
  {
   "cell_type": "code",
   "execution_count": null,
   "id": "ba6f39a4",
   "metadata": {},
   "outputs": [],
   "source": [
    "# 4) Load with correct date parsing\n",
    "delivery_logs = pd.read_csv(\n",
    "    canonical,\n",
    "    parse_dates=[\"order_date\", \"expected_delivery_date\", \"actual_delivery_date\"],\n",
    "    infer_datetime_format=True\n",
    ")\n",
    "\n",
    "# 5) Quick sanity peek\n",
    "print(f\"Rows: {len(delivery_logs):,}\")\n",
    "print(\"Columns:\", delivery_logs.columns.tolist())\n",
    "print(delivery_logs.head(3))\n"
   ]
  },
  {
   "cell_type": "markdown",
   "id": "89f2ff86",
   "metadata": {},
   "source": [
    "### Pareto of Delay Causes (from delivery_logs)"
   ]
  },
  {
   "cell_type": "code",
   "execution_count": null,
   "id": "61854e03",
   "metadata": {},
   "outputs": [],
   "source": [
    "import pandas as pd\n",
    "import numpy as np\n",
    "import matplotlib.pyplot as plt\n",
    "from pathlib import Path"
   ]
  },
  {
   "cell_type": "code",
   "execution_count": null,
   "id": "8f538b06",
   "metadata": {},
   "outputs": [],
   "source": [
    "# 1) Build delay buckets\n",
    "dl = delivery_logs.copy()\n",
    "dl[\"delay_days\"] = (pd.to_datetime(dl[\"actual_delivery_date\"]) - pd.to_datetime(dl[\"expected_delivery_date\"])).dt.days\n",
    "dl[\"delay_days\"] = dl[\"delay_days\"].fillna(np.nan)\n",
    "\n",
    "def bucket_delay(row):\n",
    "    if pd.isna(row[\"actual_delivery_date\"]):\n",
    "        return \"Undelivered (open)\"\n",
    "    if row[\"quantity_received\"] < row[\"quantity_ordered\"]:\n",
    "        return \"Partial fulfillment\"\n",
    "    if row[\"delay_days\"] is np.nan or row[\"delay_days\"] <= 0:\n",
    "        return \"On-time\"\n",
    "    if row[\"delay_days\"] >= 14:\n",
    "        return \"Severe delay (14d+)\"\n",
    "    return \"Moderate delay (1–13d)\"\n",
    "\n",
    "dl[\"delay_bucket\"] = dl.apply(bucket_delay, axis=1)"
   ]
  },
  {
   "cell_type": "code",
   "execution_count": null,
   "id": "06d13a7c",
   "metadata": {},
   "outputs": [],
   "source": [
    "# 2) Aggregate counts and cumulative %\n",
    "counts = (dl[\"delay_bucket\"].value_counts()\n",
    "          .rename_axis(\"delay_bucket\")\n",
    "          .reset_index(name=\"count\")\n",
    "          .sort_values(\"count\", ascending=False)\n",
    "          .reset_index(drop=True))\n",
    "counts[\"cum_count\"] = counts[\"count\"].cumsum()\n",
    "counts[\"cum_pct\"] = counts[\"cum_count\"] / counts[\"count\"].sum() * 100"
   ]
  },
  {
   "cell_type": "code",
   "execution_count": null,
   "id": "03f95bb6",
   "metadata": {},
   "outputs": [],
   "source": [
    "# 3) Plot (matplotlib only)\n",
    "plt.figure(figsize=(10, 6))\n",
    "ax = counts.plot(x=\"delay_bucket\", y=\"count\", kind=\"bar\", legend=False, rot=20)\n",
    "ax.set_xlabel(\"Delay Cause (Bucket)\")\n",
    "ax.set_ylabel(\"Deliveries (count)\")\n",
    "ax.set_title(\"Pareto of Delivery Delay Causes (Overall)\")\n",
    "\n",
    "ax2 = ax.twinx()\n",
    "ax2.plot(range(len(counts)), counts[\"cum_pct\"], marker=\"o\")\n",
    "ax2.set_ylabel(\"Cumulative %\")\n",
    "ax2.set_ylim(0, 110)\n",
    "\n",
    "# annotate last point\n",
    "last_x = len(counts) - 1\n",
    "ax2.annotate(f\"{counts['cum_pct'].iloc[-1]:.1f}%\",\n",
    "             xy=(last_x, counts[\"cum_pct\"].iloc[-1]),\n",
    "             xytext=(last_x, min(100, counts['cum_pct'].iloc[-1] + 5)))\n",
    "\n",
    "plt.tight_layout()\n",
    "\n",
    "fig_dir = Path(\"clean_data\") / \"figures\"\n",
    "fig_dir.mkdir(parents=True, exist_ok=True)\n",
    "out_path = fig_dir / \"pareto_delay_buckets.png\"\n",
    "plt.savefig(out_path, dpi=200)\n",
    "plt.close()\n",
    "\n",
    "print(f\"\\ Saved Pareto chart: {out_path}\")\n",
    "print(counts)\n",
    " "
   ]
  },
  {
   "cell_type": "markdown",
   "id": "4f7f5215",
   "metadata": {},
   "source": [
    "### Monthly Delay Trend"
   ]
  },
  {
   "cell_type": "code",
   "execution_count": null,
   "id": "1d9120c7",
   "metadata": {},
   "outputs": [],
   "source": [
    "import pandas as pd\n",
    "import numpy as np\n",
    "import matplotlib.pyplot as plt\n",
    "from pathlib import Path"
   ]
  },
  {
   "cell_type": "code",
   "execution_count": null,
   "id": "65ae43a6",
   "metadata": {},
   "outputs": [],
   "source": [
    "# Load if not already in memory\n",
    "try:\n",
    "    dl = delivery_logs.copy()\n",
    "except NameError:\n",
    "    dl = pd.read_csv(\n",
    "        Path(\"clean_data\")/\"delivery_logs.csv\",\n",
    "        parse_dates=[\"order_date\",\"expected_delivery_date\",\"actual_delivery_date\"]\n",
    "    )\n",
    "\n",
    "# Derive flags\n",
    "dl[\"is_late\"] = dl[\"actual_delivery_date\"].notna() & (dl[\"actual_delivery_date\"] > dl[\"expected_delivery_date\"])\n",
    "dl[\"is_undelivered\"] = dl[\"actual_delivery_date\"].isna()\n",
    "\n",
    "# Month on expected date timeline\n",
    "dl[\"month\"] = dl[\"expected_delivery_date\"].dt.to_period(\"M\").astype(str)\n",
    "\n",
    "# Aggregate: delay_or_open rate per month\n",
    "monthly = (\n",
    "    dl.groupby(\"month\", as_index=False)\n",
    "      .agg(total_deliveries=(\"delivery_id\",\"size\"),\n",
    "           late_or_open=(\"is_late\",\"sum\"))\n",
    ")\n",
    "monthly[\"late_or_open\"] += dl.groupby(\"month\")[\"is_undelivered\"].sum().values\n",
    "monthly[\"delay_rate_pct\"] = (monthly[\"late_or_open\"] / monthly[\"total_deliveries\"] * 100).round(2)"
   ]
  },
  {
   "cell_type": "code",
   "execution_count": null,
   "id": "c543fa73",
   "metadata": {},
   "outputs": [],
   "source": [
    "# Plot\n",
    "plt.figure(figsize=(10,6))\n",
    "plt.plot(monthly[\"month\"], monthly[\"delay_rate_pct\"], marker=\"o\")\n",
    "plt.title(\"Monthly Delay Trend (% late or undelivered)\")\n",
    "plt.xlabel(\"Month\")\n",
    "plt.ylabel(\"Delay Rate (%)\")\n",
    "plt.xticks(rotation=45, ha=\"right\")\n",
    "plt.grid(True)\n",
    "plt.tight_layout()\n",
    "\n",
    "# Save + show\n",
    "fig_dir = Path(\"clean_data\")/\"figures\"\n",
    "fig_dir.mkdir(parents=True, exist_ok=True)\n",
    "out_path = fig_dir/\"monthly_delay_rate.png\"\n",
    "plt.savefig(out_path, dpi=200)\n",
    "plt.show()\n",
    "\n",
    "print(f\" Saved monthly delay trend: {out_path}\")\n",
    "print(monthly.tail(6))\n"
   ]
  },
  {
   "cell_type": "markdown",
   "id": "c2ab4b93",
   "metadata": {},
   "source": [
    "### Top Suppliers by Overall Delay Rate"
   ]
  },
  {
   "cell_type": "code",
   "execution_count": null,
   "id": "568fc8aa",
   "metadata": {},
   "outputs": [],
   "source": [
    "import pandas as pd\n",
    "import numpy as np\n",
    "import matplotlib.pyplot as plt\n",
    "from pathlib import Path\n",
    "\n",
    "BASE = Path(\"clean_data\")\n",
    "FIG_DIR = BASE / \"figures\"\n",
    "FIG_DIR.mkdir(parents=True, exist_ok=True)"
   ]
  },
  {
   "cell_type": "code",
   "execution_count": null,
   "id": "e08208ba",
   "metadata": {},
   "outputs": [],
   "source": [
    "# Load deliveries if not already in memory\n",
    "try:\n",
    "    dl = delivery_logs.copy()\n",
    "except NameError:\n",
    "    dl = pd.read_csv(\n",
    "        BASE / \"delivery_logs.csv\",\n",
    "        parse_dates=[\"order_date\",\"expected_delivery_date\",\"actual_delivery_date\"]\n",
    "    )\n",
    "\n",
    "# Optional supplier names\n",
    "suppliers = None\n",
    "for p in [BASE/\"suppliers.csv\", BASE/\"suppliers_clean.csv\"]:\n",
    "    if p.exists():\n",
    "        suppliers = pd.read_csv(p)\n",
    "        break\n",
    "\n",
    "# Flags\n",
    "dl[\"is_late\"] = dl[\"actual_delivery_date\"].notna() & (dl[\"actual_delivery_date\"] > dl[\"expected_delivery_date\"])\n",
    "dl[\"is_undelivered\"] = dl[\"actual_delivery_date\"].isna()\n",
    "dl[\"late_or_open\"] = dl[\"is_late\"] | dl[\"is_undelivered\"]\n",
    "\n",
    "# Aggregate per supplier\n",
    "sup = (\n",
    "    dl.groupby(\"supplier_id\", as_index=False)\n",
    "      .agg(total_deliveries=(\"delivery_id\",\"size\"),\n",
    "           late_or_open=(\"late_or_open\",\"sum\"))\n",
    ")\n",
    "sup[\"delay_rate_pct\"] = (sup[\"late_or_open\"] / sup[\"total_deliveries\"] * 100).round(2)\n",
    "\n",
    "# Attach names if available\n",
    "label_col = \"supplier_id\"\n",
    "if suppliers is not None and {\"supplier_id\",\"supplier_name\"}.issubset(suppliers.columns):\n",
    "    sup = sup.merge(suppliers[[\"supplier_id\",\"supplier_name\"]], on=\"supplier_id\", how=\"left\")\n",
    "    label_col = \"supplier_name\"\n",
    "\n",
    "# Filter to avoid tiny samples (best practice)\n",
    "sup_filt = sup[sup[\"total_deliveries\"] >= 100].copy()\n",
    "\n",
    "# Top 10 worst by delay rate\n",
    "top10 = sup_filt.sort_values([\"delay_rate_pct\",\"total_deliveries\"], ascending=[False, False]).head(10)\n",
    "top10 = top10.sort_values(\"delay_rate_pct\")  # for nicer horizontal plot ordering\n",
    "\n",
    "# Plot\n",
    "plt.figure(figsize=(10, 6))\n",
    "plt.barh(top10[label_col], top10[\"delay_rate_pct\"])\n",
    "plt.xlabel(\"Delay Rate (%)\")\n",
    "plt.ylabel(\"Supplier\")\n",
    "plt.title(\"Top Suppliers by Overall Delay Rate (late or undelivered)\")\n",
    "for i, v in enumerate(top10[\"delay_rate_pct\"]):\n",
    "    plt.text(v + 0.5, i, f\"{v:.1f}%\", va=\"center\")\n",
    "\n",
    "plt.tight_layout()\n",
    "out_path = FIG_DIR / \"top_suppliers_delay_rate.png\"\n",
    "plt.savefig(out_path, dpi=200)\n",
    "plt.show()\n",
    "\n",
    "print(f\" Saved: {out_path}\")\n",
    "print(top10[[label_col, \"total_deliveries\", \"delay_rate_pct\"]])\n"
   ]
  },
  {
   "cell_type": "markdown",
   "id": "51197e69",
   "metadata": {},
   "source": [
    "### Overall Delay Rate by Country"
   ]
  },
  {
   "cell_type": "code",
   "execution_count": null,
   "id": "26084e18",
   "metadata": {},
   "outputs": [],
   "source": [
    "import pandas as pd\n",
    "import numpy as np\n",
    "import matplotlib.pyplot as plt\n",
    "from pathlib import Path\n",
    "\n",
    "BASE = Path(\"clean_data\")\n",
    "FIG_DIR = BASE / \"figures\"\n",
    "FIG_DIR.mkdir(parents=True, exist_ok=True)"
   ]
  },
  {
   "cell_type": "code",
   "execution_count": null,
   "id": "5a699433",
   "metadata": {},
   "outputs": [],
   "source": [
    "# 1) Load deliveries\n",
    "delivery_path = BASE / \"delivery_logs.csv\"\n",
    "dl = pd.read_csv(\n",
    "    delivery_path,\n",
    "    parse_dates=[\"order_date\",\"expected_delivery_date\",\"actual_delivery_date\"]\n",
    ")"
   ]
  },
  {
   "cell_type": "code",
   "execution_count": null,
   "id": "f3063b5a",
   "metadata": {},
   "outputs": [],
   "source": [
    "# 2) Find suppliers file with required columns\n",
    "req_cols = {\"supplier_id\",\"supplier_name\",\"country\",\"tier_level\",\"on_time_rating\"}\n",
    "sup_path = None\n",
    "for p in BASE.glob(\"suppliers*.csv\"):\n",
    "    try:\n",
    "        test = pd.read_csv(p, nrows=1)\n",
    "        if req_cols.issubset(set(test.columns)):\n",
    "            sup_path = p\n",
    "            break\n",
    "    except Exception:\n",
    "        continue\n",
    "\n",
    "if sup_path is None:\n",
    "    raise FileNotFoundError(\n",
    "        \"Could not find a suppliers CSV in clean_data/ containing \"\n",
    "        f\"columns {sorted(req_cols)}. Please place it there (e.g., suppliers_master.csv).\"\n",
    "    )\n",
    "\n",
    "suppliers = pd.read_csv(sup_path)"
   ]
  },
  {
   "cell_type": "code",
   "execution_count": null,
   "id": "70327bb9",
   "metadata": {},
   "outputs": [],
   "source": [
    "# 3) Merge country to deliveries\n",
    "dl = dl.merge(suppliers[[\"supplier_id\",\"country\"]], on=\"supplier_id\", how=\"left\")"
   ]
  },
  {
   "cell_type": "code",
   "execution_count": null,
   "id": "4e0ab5b6",
   "metadata": {},
   "outputs": [],
   "source": [
    "# 4) Late or undelivered flag\n",
    "dl[\"is_late\"] = dl[\"actual_delivery_date\"].notna() & (dl[\"actual_delivery_date\"] > dl[\"expected_delivery_date\"])\n",
    "dl[\"is_undelivered\"] = dl[\"actual_delivery_date\"].isna()\n",
    "dl[\"late_or_open\"] = dl[\"is_late\"] | dl[\"is_undelivered\"]"
   ]
  },
  {
   "cell_type": "code",
   "execution_count": null,
   "id": "f5bcfc3c",
   "metadata": {},
   "outputs": [],
   "source": [
    "# 5) Aggregate by country\n",
    "country_perf = (\n",
    "    dl.groupby(\"country\", as_index=False)\n",
    "      .agg(total_deliveries=(\"delivery_id\",\"size\"),\n",
    "           late_or_open=(\"late_or_open\",\"sum\"))\n",
    ")\n",
    "country_perf[\"delay_rate_pct\"] = (country_perf[\"late_or_open\"] / country_perf[\"total_deliveries\"] * 100).round(2)\n",
    "country_perf = country_perf.sort_values(\"delay_rate_pct\", ascending=False)"
   ]
  },
  {
   "cell_type": "code",
   "execution_count": null,
   "id": "64dad60b",
   "metadata": {},
   "outputs": [],
   "source": [
    "# 6) Plot and save\n",
    "plt.figure(figsize=(10,6))\n",
    "bars = plt.barh(country_perf[\"country\"], country_perf[\"delay_rate_pct\"])\n",
    "plt.xlabel(\"Delay Rate (%)\")\n",
    "plt.ylabel(\"Country\")\n",
    "plt.title(\"Overall Delay Rate by Country (late or undelivered)\")\n",
    "for bar, v in zip(bars, country_perf[\"delay_rate_pct\"]):\n",
    "    plt.text(v + 0.5, bar.get_y() + bar.get_height()/2, f\"{v:.1f}%\", va=\"center\")\n",
    "\n",
    "plt.gca().invert_yaxis()\n",
    "plt.tight_layout()\n",
    "out_path = FIG_DIR / \"overall_delay_rate_by_country.png\"\n",
    "plt.savefig(out_path, dpi=200)\n",
    "plt.show()\n",
    "\n",
    "print(f\" Saved: {out_path}\")\n",
    "print(country_perf)\n"
   ]
  },
  {
   "cell_type": "markdown",
   "id": "d66e4e7d",
   "metadata": {},
   "source": [
    "###  Monthly Delay Rate by Country (trend lines)"
   ]
  },
  {
   "cell_type": "code",
   "execution_count": null,
   "id": "cf38c175",
   "metadata": {},
   "outputs": [],
   "source": [
    "import pandas as pd\n",
    "import numpy as np\n",
    "import matplotlib.pyplot as plt\n",
    "from pathlib import Path\n",
    "\n",
    "BASE = Path(\"clean_data\")\n",
    "FIG_DIR = BASE / \"figures\"\n",
    "FIG_DIR.mkdir(parents=True, exist_ok=True)"
   ]
  },
  {
   "cell_type": "code",
   "execution_count": null,
   "id": "29070892",
   "metadata": {},
   "outputs": [],
   "source": [
    "# --- Load deliveries ---\n",
    "dl = pd.read_csv(\n",
    "    BASE / \"delivery_logs.csv\",\n",
    "    parse_dates=[\"order_date\",\"expected_delivery_date\",\"actual_delivery_date\"]\n",
    ")"
   ]
  },
  {
   "cell_type": "code",
   "execution_count": null,
   "id": "efdc138a",
   "metadata": {},
   "outputs": [],
   "source": [
    "# --- Load suppliers (auto-detect a file with country) ---\n",
    "sup = None\n",
    "for p in BASE.glob(\"suppliers*.csv\"):\n",
    "    try:\n",
    "        t = pd.read_csv(p, nrows=1)\n",
    "        if {\"supplier_id\",\"country\"}.issubset(t.columns):\n",
    "            sup = pd.read_csv(p)\n",
    "            break\n",
    "    except Exception:\n",
    "        pass\n",
    "if sup is None:\n",
    "    raise FileNotFoundError(\"No suppliers*.csv in clean_data/ with columns ['supplier_id','country'].\")"
   ]
  },
  {
   "cell_type": "code",
   "execution_count": null,
   "id": "f267b539",
   "metadata": {},
   "outputs": [],
   "source": [
    "# --- Merge country onto deliveries ---\n",
    "dl = dl.merge(sup[[\"supplier_id\",\"country\"]], on=\"supplier_id\", how=\"left\")"
   ]
  },
  {
   "cell_type": "code",
   "execution_count": null,
   "id": "d181e824",
   "metadata": {},
   "outputs": [],
   "source": [
    "# --- Flags & monthly key (expected timeline) ---\n",
    "dl[\"is_late\"] = dl[\"actual_delivery_date\"].notna() & (dl[\"actual_delivery_date\"] > dl[\"expected_delivery_date\"])\n",
    "dl[\"is_undelivered\"] = dl[\"actual_delivery_date\"].isna()\n",
    "dl[\"late_or_open\"] = dl[\"is_late\"] | dl[\"is_undelivered\"]\n",
    "dl[\"month\"] = dl[\"expected_delivery_date\"].dt.to_period(\"M\").astype(str)"
   ]
  },
  {
   "cell_type": "code",
   "execution_count": null,
   "id": "7c858164",
   "metadata": {},
   "outputs": [],
   "source": [
    "# --- Aggregate monthly delay rate by country ---\n",
    "grp = (dl.groupby([\"country\",\"month\"], as_index=False)\n",
    "         .agg(total_deliveries=(\"delivery_id\",\"size\"),\n",
    "              late_or_open=(\"late_or_open\",\"sum\")))\n",
    "grp[\"delay_rate_pct\"] = (grp[\"late_or_open\"] / grp[\"total_deliveries\"] * 100).round(2)"
   ]
  },
  {
   "cell_type": "code",
   "execution_count": null,
   "id": "142c91c2",
   "metadata": {},
   "outputs": [],
   "source": [
    "# --- Keep only countries with enough volume overall (avoid noisy lines) ---\n",
    "vol = grp.groupby(\"country\")[\"total_deliveries\"].sum()\n",
    "keep_countries = vol[vol >= 400].index.tolist()  # adjust threshold if needed\n",
    "plot_df = grp[grp[\"country\"].isin(keep_countries)].copy()"
   ]
  },
  {
   "cell_type": "code",
   "execution_count": null,
   "id": "d4b4e5c6",
   "metadata": {},
   "outputs": [],
   "source": [
    "# --- Pivot for plotting (months on X, countries as series) ---\n",
    "pivot = plot_df.pivot(index=\"month\", columns=\"country\", values=\"delay_rate_pct\").sort_index()\n",
    "\n",
    "# --- Plot (matplotlib only; no custom colors) ---\n",
    "plt.figure(figsize=(12,7))\n",
    "for col in pivot.columns:\n",
    "    plt.plot(pivot.index, pivot[col], marker=\"o\", label=col)\n",
    "\n",
    "plt.title(\"Monthly Delay Rate by Country (late or undelivered)\")\n",
    "plt.xlabel(\"Month\")\n",
    "plt.ylabel(\"Delay Rate (%)\")\n",
    "plt.xticks(rotation=45, ha=\"right\")\n",
    "plt.grid(True, axis=\"y\")\n",
    "plt.legend(title=\"Country\", ncol=2, frameon=False)\n",
    "plt.tight_layout()\n",
    "\n",
    "out_path = FIG_DIR / \"monthly_delay_rate_by_country.png\"\n",
    "plt.savefig(out_path, dpi=200)\n",
    "plt.show()\n",
    "\n",
    "print(f\" Saved: {out_path}\")\n",
    "print(\"Series plotted:\", list(pivot.columns))\n"
   ]
  },
  {
   "cell_type": "markdown",
   "id": "c2e83d55",
   "metadata": {},
   "source": [
    "### Supplier × Month Delay Rate Heatmap"
   ]
  },
  {
   "cell_type": "code",
   "execution_count": null,
   "id": "c0e3d0de",
   "metadata": {},
   "outputs": [],
   "source": [
    "import pandas as pd\n",
    "import numpy as np\n",
    "import matplotlib.pyplot as plt\n",
    "from pathlib import Path\n",
    "\n",
    "BASE = Path(\"clean_data\")\n",
    "FIG_DIR = BASE / \"figures\"\n",
    "FIG_DIR.mkdir(parents=True, exist_ok=True)"
   ]
  },
  {
   "cell_type": "code",
   "execution_count": null,
   "id": "76b9a9fb",
   "metadata": {},
   "outputs": [],
   "source": [
    "# --- Load deliveries ---\n",
    "dl = pd.read_csv(\n",
    "    BASE / \"delivery_logs.csv\",\n",
    "    parse_dates=[\"order_date\",\"expected_delivery_date\",\"actual_delivery_date\"]\n",
    ")"
   ]
  },
  {
   "cell_type": "code",
   "execution_count": null,
   "id": "306c5433",
   "metadata": {},
   "outputs": [],
   "source": [
    "# --- Optional: load supplier names if available ---\n",
    "label_col = \"supplier_id\"\n",
    "sup = None\n",
    "for p in BASE.glob(\"suppliers*.csv\"):\n",
    "    try:\n",
    "        t = pd.read_csv(p, nrows=1)\n",
    "        if {\"supplier_id\",\"supplier_name\"}.issubset(t.columns):\n",
    "            sup = pd.read_csv(p)\n",
    "            break\n",
    "    except Exception:\n",
    "        pass\n",
    "if sup is not None:\n",
    "    dl = dl.merge(sup[[\"supplier_id\",\"supplier_name\"]], on=\"supplier_id\", how=\"left\")\n",
    "    label_col = \"supplier_name\""
   ]
  },
  {
   "cell_type": "code",
   "execution_count": null,
   "id": "181c1f04",
   "metadata": {},
   "outputs": [],
   "source": [
    "# --- Late/Open flags and month key ---\n",
    "dl[\"is_late\"] = dl[\"actual_delivery_date\"].notna() & (dl[\"actual_delivery_date\"] > dl[\"expected_delivery_date\"])\n",
    "dl[\"is_undelivered\"] = dl[\"actual_delivery_date\"].isna()\n",
    "dl[\"late_or_open\"] = dl[\"is_late\"] | dl[\"is_undelivered\"]\n",
    "dl[\"month\"] = dl[\"expected_delivery_date\"].dt.to_period(\"M\").astype(str)"
   ]
  },
  {
   "cell_type": "code",
   "execution_count": null,
   "id": "25158e99",
   "metadata": {},
   "outputs": [],
   "source": [
    "# --- Aggregate supplier × month delay rate ---\n",
    "agg = (dl.groupby([label_col,\"month\"], as_index=False)\n",
    "         .agg(total_deliveries=(\"delivery_id\",\"size\"),\n",
    "              late_or_open=(\"late_or_open\",\"sum\")))\n",
    "agg[\"delay_rate_pct\"] = (agg[\"late_or_open\"] / agg[\"total_deliveries\"] * 100).round(2)"
   ]
  },
  {
   "cell_type": "code",
   "execution_count": null,
   "id": "46255e2e",
   "metadata": {},
   "outputs": [],
   "source": [
    "# --- Keep suppliers with enough volume; rank by average delay and take top 20 ---\n",
    "vol = agg.groupby(label_col)[\"total_deliveries\"].sum()\n",
    "enough = vol[vol >= 200].index\n",
    "agg = agg[agg[label_col].isin(enough)]\n",
    "rank = agg.groupby(label_col)[\"delay_rate_pct\"].mean().sort_values(ascending=False)\n",
    "top_suppliers = rank.head(20).index\n",
    "\n",
    "agg = agg[agg[label_col].isin(top_suppliers)].copy()"
   ]
  },
  {
   "cell_type": "code",
   "execution_count": null,
   "id": "d22a8891",
   "metadata": {},
   "outputs": [],
   "source": [
    "# --- Build complete month axis (chronological) ---\n",
    "all_months = pd.period_range(dl[\"expected_delivery_date\"].min(), dl[\"expected_delivery_date\"].max(), freq=\"M\").astype(str)"
   ]
  },
  {
   "cell_type": "code",
   "execution_count": null,
   "id": "e3cf9699",
   "metadata": {},
   "outputs": [],
   "source": [
    "\n",
    "# --- Pivot to matrix (fill missing with NaN) ---\n",
    "pivot = (agg.pivot(index=label_col, columns=\"month\", values=\"delay_rate_pct\")\n",
    "            .reindex(index=top_suppliers, columns=all_months))\n",
    "\n",
    "# --- Plot heatmap (matplotlib only) ---\n",
    "plt.figure(figsize=(max(10, len(all_months)*0.6), 0.5*len(top_suppliers)+3))\n",
    "im = plt.imshow(pivot.values, aspect=\"auto\", interpolation=\"nearest\")  # default colormap\n",
    "\n",
    "# Axes & labels\n",
    "plt.title(\"Supplier × Month Delay Rate (%) — Top 20 by Avg Delay\")\n",
    "plt.xlabel(\"Month\")\n",
    "plt.ylabel(\"Supplier\")\n",
    "\n",
    "# Ticks\n",
    "plt.xticks(ticks=np.arange(len(all_months)), labels=all_months, rotation=45, ha=\"right\")\n",
    "plt.yticks(ticks=np.arange(len(top_suppliers)), labels=list(top_suppliers))\n",
    "\n",
    "# Colorbar\n",
    "cbar = plt.colorbar(im)\n",
    "cbar.set_label(\"Delay Rate (%)\")\n",
    "\n",
    "plt.tight_layout()\n",
    "out_path = FIG_DIR / \"supplier_delay_heatmap.png\"\n",
    "plt.savefig(out_path, dpi=200)\n",
    "plt.show()\n",
    "\n",
    "print(f\" Saved heatmap: {out_path}\")\n",
    "print(\"Suppliers shown (top 20 by avg delay, ≥200 deliveries):\")\n",
    "print(list(top_suppliers))\n"
   ]
  }
 ],
 "metadata": {
  "kernelspec": {
   "display_name": "Python 3",
   "language": "python",
   "name": "python3"
  },
  "language_info": {
   "codemirror_mode": {
    "name": "ipython",
    "version": 3
   },
   "file_extension": ".py",
   "mimetype": "text/x-python",
   "name": "python",
   "nbconvert_exporter": "python",
   "pygments_lexer": "ipython3",
   "version": "3.13.5"
  }
 },
 "nbformat": 4,
 "nbformat_minor": 5
}
