{
 "cells": [
  {
   "cell_type": "code",
   "execution_count": 1,
   "id": "fa2687f7",
   "metadata": {},
   "outputs": [],
   "source": [
    "import pandas as pd"
   ]
  },
  {
   "cell_type": "code",
   "execution_count": 2,
   "id": "7cf956af",
   "metadata": {},
   "outputs": [],
   "source": [
    "deliv = pd.read_csv(\"raw_data/delivery_logs.csv\")\n",
    "components = pd.read_csv(\"raw_data/components.csv\")"
   ]
  },
  {
   "cell_type": "code",
   "execution_count": 34,
   "id": "b405cd23",
   "metadata": {},
   "outputs": [
    {
     "data": {
      "text/html": [
       "<div>\n",
       "<style scoped>\n",
       "    .dataframe tbody tr th:only-of-type {\n",
       "        vertical-align: middle;\n",
       "    }\n",
       "\n",
       "    .dataframe tbody tr th {\n",
       "        vertical-align: top;\n",
       "    }\n",
       "\n",
       "    .dataframe thead th {\n",
       "        text-align: right;\n",
       "    }\n",
       "</style>\n",
       "<table border=\"1\" class=\"dataframe\">\n",
       "  <thead>\n",
       "    <tr style=\"text-align: right;\">\n",
       "      <th></th>\n",
       "      <th>delivery_id</th>\n",
       "      <th>supplier_id</th>\n",
       "      <th>component_id</th>\n",
       "      <th>order_date</th>\n",
       "      <th>expected_delivery_date</th>\n",
       "      <th>actual_delivery_date</th>\n",
       "      <th>quantity_ordered</th>\n",
       "      <th>quantity_received</th>\n",
       "      <th>delivery_status</th>\n",
       "      <th>pending_delivery</th>\n",
       "    </tr>\n",
       "  </thead>\n",
       "  <tbody>\n",
       "    <tr>\n",
       "      <th>0</th>\n",
       "      <td>D0008669</td>\n",
       "      <td>S001</td>\n",
       "      <td>C0212</td>\n",
       "      <td>2024-02-19</td>\n",
       "      <td>2024-03-03</td>\n",
       "      <td>2024-03-04</td>\n",
       "      <td>15347</td>\n",
       "      <td>15347</td>\n",
       "      <td>Delayed</td>\n",
       "      <td>False</td>\n",
       "    </tr>\n",
       "    <tr>\n",
       "      <th>1</th>\n",
       "      <td>D0002176</td>\n",
       "      <td>S015</td>\n",
       "      <td>C0052</td>\n",
       "      <td>2024-02-19</td>\n",
       "      <td>2024-03-21</td>\n",
       "      <td>2024-03-21</td>\n",
       "      <td>19149</td>\n",
       "      <td>19149</td>\n",
       "      <td>On-Time</td>\n",
       "      <td>False</td>\n",
       "    </tr>\n",
       "    <tr>\n",
       "      <th>2</th>\n",
       "      <td>D0000450</td>\n",
       "      <td>S005</td>\n",
       "      <td>C0018</td>\n",
       "      <td>2024-02-19</td>\n",
       "      <td>2024-03-25</td>\n",
       "      <td>2024-03-25</td>\n",
       "      <td>5525</td>\n",
       "      <td>5525</td>\n",
       "      <td>On-Time</td>\n",
       "      <td>False</td>\n",
       "    </tr>\n",
       "    <tr>\n",
       "      <th>3</th>\n",
       "      <td>D0000499</td>\n",
       "      <td>S008</td>\n",
       "      <td>C0019</td>\n",
       "      <td>2024-02-19</td>\n",
       "      <td>2024-04-08</td>\n",
       "      <td>2024-04-09</td>\n",
       "      <td>8919</td>\n",
       "      <td>8919</td>\n",
       "      <td>Delayed</td>\n",
       "      <td>False</td>\n",
       "    </tr>\n",
       "    <tr>\n",
       "      <th>4</th>\n",
       "      <td>D0007348</td>\n",
       "      <td>S016</td>\n",
       "      <td>C0170</td>\n",
       "      <td>2024-02-19</td>\n",
       "      <td>2024-03-11</td>\n",
       "      <td>2024-03-12</td>\n",
       "      <td>16632</td>\n",
       "      <td>16632</td>\n",
       "      <td>Delayed</td>\n",
       "      <td>False</td>\n",
       "    </tr>\n",
       "  </tbody>\n",
       "</table>\n",
       "</div>"
      ],
      "text/plain": [
       "  delivery_id supplier_id component_id order_date expected_delivery_date  \\\n",
       "0    D0008669        S001        C0212 2024-02-19             2024-03-03   \n",
       "1    D0002176        S015        C0052 2024-02-19             2024-03-21   \n",
       "2    D0000450        S005        C0018 2024-02-19             2024-03-25   \n",
       "3    D0000499        S008        C0019 2024-02-19             2024-04-08   \n",
       "4    D0007348        S016        C0170 2024-02-19             2024-03-11   \n",
       "\n",
       "  actual_delivery_date  quantity_ordered  quantity_received delivery_status  \\\n",
       "0           2024-03-04             15347              15347         Delayed   \n",
       "1           2024-03-21             19149              19149         On-Time   \n",
       "2           2024-03-25              5525               5525         On-Time   \n",
       "3           2024-04-09              8919               8919         Delayed   \n",
       "4           2024-03-12             16632              16632         Delayed   \n",
       "\n",
       "   pending_delivery  \n",
       "0             False  \n",
       "1             False  \n",
       "2             False  \n",
       "3             False  \n",
       "4             False  "
      ]
     },
     "execution_count": 34,
     "metadata": {},
     "output_type": "execute_result"
    }
   ],
   "source": [
    "deliv.head()"
   ]
  },
  {
   "cell_type": "code",
   "execution_count": 4,
   "id": "3a1668fe",
   "metadata": {},
   "outputs": [
    {
     "name": "stdout",
     "output_type": "stream",
     "text": [
      "<class 'pandas.core.frame.DataFrame'>\n",
      "RangeIndex: 9650 entries, 0 to 9649\n",
      "Data columns (total 9 columns):\n",
      " #   Column                  Non-Null Count  Dtype \n",
      "---  ------                  --------------  ----- \n",
      " 0   delivery_id             9650 non-null   object\n",
      " 1   supplier_id             9650 non-null   object\n",
      " 2   component_id            9650 non-null   object\n",
      " 3   order_date              9650 non-null   object\n",
      " 4   expected_delivery_date  9650 non-null   object\n",
      " 5   actual_delivery_date    9470 non-null   object\n",
      " 6   quantity_ordered        9650 non-null   int64 \n",
      " 7   quantity_received       9650 non-null   int64 \n",
      " 8   delivery_status         9650 non-null   object\n",
      "dtypes: int64(2), object(7)\n",
      "memory usage: 678.6+ KB\n"
     ]
    }
   ],
   "source": [
    "deliv.info()"
   ]
  },
  {
   "cell_type": "code",
   "execution_count": 5,
   "id": "c81b9bd7",
   "metadata": {},
   "outputs": [
    {
     "data": {
      "text/plain": [
       "delivery_id                 0\n",
       "supplier_id                 0\n",
       "component_id                0\n",
       "order_date                  0\n",
       "expected_delivery_date      0\n",
       "actual_delivery_date      180\n",
       "quantity_ordered            0\n",
       "quantity_received           0\n",
       "delivery_status             0\n",
       "dtype: int64"
      ]
     },
     "execution_count": 5,
     "metadata": {},
     "output_type": "execute_result"
    }
   ],
   "source": [
    "# check for missing values\n",
    "deliv.isnull().sum()"
   ]
  },
  {
   "cell_type": "code",
   "execution_count": 6,
   "id": "ba7e5a27",
   "metadata": {},
   "outputs": [
    {
     "data": {
      "text/plain": [
       "np.int64(0)"
      ]
     },
     "execution_count": 6,
     "metadata": {},
     "output_type": "execute_result"
    }
   ],
   "source": [
    "# check for duplicates rows\n",
    "deliv.duplicated().sum()"
   ]
  },
  {
   "cell_type": "code",
   "execution_count": null,
   "id": "dc34506d",
   "metadata": {},
   "outputs": [],
   "source": [
    "deliv['order_date'] = pd.to_datetime(deliv['order_date'], errors='coerce')\n",
    "deliv['expected_delivery_date'] = pd.to_datetime(deliv['expected_delivery_date'], errors='coerce')\n",
    "deliv['actual_delivery_date'] = pd.to_datetime(deliv['actual_delivery_date'], errors='coerce')"
   ]
  },
  {
   "cell_type": "code",
   "execution_count": 8,
   "id": "73328411",
   "metadata": {},
   "outputs": [
    {
     "name": "stdout",
     "output_type": "stream",
     "text": [
      "Date range: 2024-02-19 00:00:00 to 2025-08-15 00:00:00\n"
     ]
    }
   ],
   "source": [
    "min_date = deliv['order_date'].min()\n",
    "max_date = deliv['order_date'].max()\n",
    "\n",
    "print(f\"Date range: {min_date} to {max_date}\")"
   ]
  },
  {
   "cell_type": "code",
   "execution_count": 9,
   "id": "636d57c5",
   "metadata": {},
   "outputs": [
    {
     "name": "stdout",
     "output_type": "stream",
     "text": [
      "Date range: 2024-03-03 00:00:00 to 2025-11-09 00:00:00\n"
     ]
    }
   ],
   "source": [
    "min_date = deliv['expected_delivery_date'].min()\n",
    "max_date = deliv['expected_delivery_date'].max()\n",
    "\n",
    "print(f\"Date range: {min_date} to {max_date}\")"
   ]
  },
  {
   "cell_type": "code",
   "execution_count": 10,
   "id": "5fedfd34",
   "metadata": {},
   "outputs": [
    {
     "name": "stdout",
     "output_type": "stream",
     "text": [
      "Date range: 2024-03-04 00:00:00 to 2025-11-09 00:00:00\n"
     ]
    }
   ],
   "source": [
    "min_date = deliv['actual_delivery_date'].min()\n",
    "max_date = deliv['actual_delivery_date'].max()\n",
    "\n",
    "print(f\"Date range: {min_date} to {max_date}\")"
   ]
  },
  {
   "cell_type": "code",
   "execution_count": 11,
   "id": "14cfb407",
   "metadata": {},
   "outputs": [
    {
     "name": "stdout",
     "output_type": "stream",
     "text": [
      "Quantity range: 2 to 105550\n"
     ]
    }
   ],
   "source": [
    "# check max and min column quatity\n",
    "min_quantity = deliv['quantity_ordered'].min()\n",
    "max_quantity = deliv['quantity_ordered'].max()\n",
    "\n",
    "print(f\"Quantity range: {min_quantity} to {max_quantity}\")"
   ]
  },
  {
   "cell_type": "code",
   "execution_count": 12,
   "id": "f99dc34c",
   "metadata": {},
   "outputs": [
    {
     "name": "stdout",
     "output_type": "stream",
     "text": [
      "Quantity range: 2 to 105550\n"
     ]
    }
   ],
   "source": [
    "# check max and min column quatity\n",
    "min_quantity = deliv['quantity_received'].min()\n",
    "max_quantity = deliv['quantity_received'].max()\n",
    "\n",
    "print(f\"Quantity range: {min_quantity} to {max_quantity}\")"
   ]
  },
  {
   "cell_type": "code",
   "execution_count": 13,
   "id": "0c823582",
   "metadata": {},
   "outputs": [
    {
     "data": {
      "text/plain": [
       "array(['Delayed', 'On-Time', 'Unknown', 'Partial'], dtype=object)"
      ]
     },
     "execution_count": 13,
     "metadata": {},
     "output_type": "execute_result"
    }
   ],
   "source": [
    "# check unique values \n",
    "deliv['delivery_status'].unique()"
   ]
  },
  {
   "cell_type": "code",
   "execution_count": 14,
   "id": "0404d62e",
   "metadata": {},
   "outputs": [],
   "source": [
    "# Add a pending_delivery flag\n",
    "deliv[\"pending_delivery\"] = deliv[\"actual_delivery_date\"].isna()"
   ]
  },
  {
   "cell_type": "code",
   "execution_count": 15,
   "id": "6c3cd3ee",
   "metadata": {},
   "outputs": [
    {
     "name": "stdout",
     "output_type": "stream",
     "text": [
      "Found 0 mismatched component IDs: set()\n"
     ]
    }
   ],
   "source": [
    "# Find component_ids in deliveries not in components table\n",
    "invalid_ids = set(deliv[\"component_id\"]) - set(components[\"component_id\"])\n",
    "\n",
    "print(f\"Found {len(invalid_ids)} mismatched component IDs:\", invalid_ids)\n"
   ]
  },
  {
   "cell_type": "code",
   "execution_count": 16,
   "id": "50b40e4d",
   "metadata": {},
   "outputs": [
    {
     "name": "stdout",
     "output_type": "stream",
     "text": [
      "Cleaned component_name; removed 0 duplicates\n"
     ]
    }
   ],
   "source": [
    "# Remove leading/trailing spaces\n",
    "components[\"component_name\"] = components[\"component_name\"].str.strip()\n",
    "\n",
    "# Normalize spaces (replace multiple spaces with single)\n",
    "components[\"component_name\"] = components[\"component_name\"].str.replace(r\"\\s+\", \" \", regex=True)\n",
    "\n",
    "# Standardize casing: Title Case for readability\n",
    "components[\"component_name\"] = components[\"component_name\"].str.title()\n",
    "\n",
    "# Optional: unify units format (e.g., \"Mm\" -> \"mm\", \"µm\" consistently)\n",
    "components[\"component_name\"] = components[\"component_name\"].str.replace(\"Mm\", \"mm\")\n",
    "components[\"component_name\"] = components[\"component_name\"].str.replace(\"µM\", \"µm\")\n",
    "\n",
    "# Check for duplicates\n",
    "before = len(components)\n",
    "components = components.drop_duplicates(subset=[\"component_name\"])\n",
    "after = len(components)\n",
    "\n",
    "print(f\"Cleaned component_name; removed {before - after} duplicates\")\n"
   ]
  },
  {
   "cell_type": "code",
   "execution_count": 17,
   "id": "9a60cc56",
   "metadata": {},
   "outputs": [
    {
     "name": "stdout",
     "output_type": "stream",
     "text": [
      "Top 10 orders by quantity:\n",
      "      delivery_id component_id              category  quantity_ordered\n",
      "8781    D0006679        C0157  Solder Balls/Spheres            105550\n",
      "2199    D0007416        C0171  Solder Balls/Spheres             80346\n",
      "4388    D0006812        C0160  Solder Balls/Spheres             79209\n",
      "4391    D0007431        C0171  Solder Balls/Spheres             77479\n",
      "3382    D0006756        C0159  Solder Balls/Spheres             77347\n",
      "4918    D0006986        C0163  Solder Balls/Spheres             73118\n",
      "9601    D0006634        C0156  Solder Balls/Spheres             72041\n",
      "8860    D0007458        C0171  Solder Balls/Spheres             71793\n",
      "9165    D0006631        C0156  Solder Balls/Spheres             71454\n",
      "2987    D0006653        C0157  Solder Balls/Spheres             71271\n",
      "\n",
      "99th percentile threshold: 43978.97000000001\n",
      "Orders above 99th percentile:\n",
      "      delivery_id component_id              category  quantity_ordered\n",
      "8781    D0006679        C0157  Solder Balls/Spheres            105550\n",
      "2199    D0007416        C0171  Solder Balls/Spheres             80346\n",
      "4388    D0006812        C0160  Solder Balls/Spheres             79209\n",
      "4391    D0007431        C0171  Solder Balls/Spheres             77479\n",
      "3382    D0006756        C0159  Solder Balls/Spheres             77347\n",
      "...          ...          ...                   ...               ...\n",
      "2430    D0007028        C0164  Solder Balls/Spheres             44659\n",
      "8070    D0008883        C0216   Carrier Tapes/Trays             44482\n",
      "8953    D0006893        C0161  Solder Balls/Spheres             44030\n",
      "9106    D0008582        C0209   Carrier Tapes/Trays             44003\n",
      "4969    D0007491        C0172  Solder Balls/Spheres             44002\n",
      "\n",
      "[97 rows x 4 columns]\n"
     ]
    }
   ],
   "source": [
    "# Check extreme quantity_ordered values and link them to component categories\n",
    "import pandas as pd\n",
    "\n",
    "# Load datasets\n",
    "deliveries = pd.read_csv(\"raw_data/delivery_logs.csv\")\n",
    "components = pd.read_csv(\"raw_data/components.csv\")\n",
    "\n",
    "# Merge to bring in category info\n",
    "deliveries = deliveries.merge(\n",
    "    components[[\"component_id\", \"category\"]],\n",
    "    on=\"component_id\",\n",
    "    how=\"left\"\n",
    ")\n",
    "\n",
    "# Find top 10 largest quantity_ordered rows\n",
    "top_quantities = deliveries.nlargest(10, \"quantity_ordered\")[[\n",
    "    \"delivery_id\", \"component_id\", \"category\", \"quantity_ordered\"\n",
    "]]\n",
    "\n",
    "print(\"Top 10 orders by quantity:\\n\", top_quantities)\n",
    "\n",
    "# Also check statistical threshold: above 99th percentile\n",
    "q99 = deliveries[\"quantity_ordered\"].quantile(0.99)\n",
    "possible_outliers = deliveries[deliveries[\"quantity_ordered\"] > q99][\n",
    "    [\"delivery_id\", \"component_id\", \"category\", \"quantity_ordered\"]\n",
    "].sort_values(by=\"quantity_ordered\", ascending=False)\n",
    "\n",
    "print(f\"\\n99th percentile threshold: {q99}\")\n",
    "print(\"Orders above 99th percentile:\\n\", possible_outliers)\n"
   ]
  },
  {
   "cell_type": "code",
   "execution_count": 18,
   "id": "1f687800",
   "metadata": {},
   "outputs": [],
   "source": [
    "forecasts = pd.read_csv(\"raw_data/forecasts.csv\")"
   ]
  },
  {
   "cell_type": "code",
   "execution_count": 19,
   "id": "a6b2d42f",
   "metadata": {},
   "outputs": [
    {
     "data": {
      "text/html": [
       "<div>\n",
       "<style scoped>\n",
       "    .dataframe tbody tr th:only-of-type {\n",
       "        vertical-align: middle;\n",
       "    }\n",
       "\n",
       "    .dataframe tbody tr th {\n",
       "        vertical-align: top;\n",
       "    }\n",
       "\n",
       "    .dataframe thead th {\n",
       "        text-align: right;\n",
       "    }\n",
       "</style>\n",
       "<table border=\"1\" class=\"dataframe\">\n",
       "  <thead>\n",
       "    <tr style=\"text-align: right;\">\n",
       "      <th></th>\n",
       "      <th>month</th>\n",
       "      <th>component_id</th>\n",
       "      <th>forecast_units</th>\n",
       "    </tr>\n",
       "  </thead>\n",
       "  <tbody>\n",
       "    <tr>\n",
       "      <th>0</th>\n",
       "      <td>2024-02</td>\n",
       "      <td>C0001</td>\n",
       "      <td>66</td>\n",
       "    </tr>\n",
       "    <tr>\n",
       "      <th>1</th>\n",
       "      <td>2024-02</td>\n",
       "      <td>C0002</td>\n",
       "      <td>91</td>\n",
       "    </tr>\n",
       "    <tr>\n",
       "      <th>2</th>\n",
       "      <td>2024-02</td>\n",
       "      <td>C0003</td>\n",
       "      <td>107</td>\n",
       "    </tr>\n",
       "    <tr>\n",
       "      <th>3</th>\n",
       "      <td>2024-02</td>\n",
       "      <td>C0004</td>\n",
       "      <td>63</td>\n",
       "    </tr>\n",
       "    <tr>\n",
       "      <th>4</th>\n",
       "      <td>2024-02</td>\n",
       "      <td>C0005</td>\n",
       "      <td>123</td>\n",
       "    </tr>\n",
       "  </tbody>\n",
       "</table>\n",
       "</div>"
      ],
      "text/plain": [
       "     month component_id  forecast_units\n",
       "0  2024-02        C0001              66\n",
       "1  2024-02        C0002              91\n",
       "2  2024-02        C0003             107\n",
       "3  2024-02        C0004              63\n",
       "4  2024-02        C0005             123"
      ]
     },
     "execution_count": 19,
     "metadata": {},
     "output_type": "execute_result"
    }
   ],
   "source": [
    "forecasts.head()"
   ]
  },
  {
   "cell_type": "code",
   "execution_count": 20,
   "id": "f72861b7",
   "metadata": {},
   "outputs": [
    {
     "name": "stdout",
     "output_type": "stream",
     "text": [
      "<class 'pandas.core.frame.DataFrame'>\n",
      "RangeIndex: 5280 entries, 0 to 5279\n",
      "Data columns (total 3 columns):\n",
      " #   Column          Non-Null Count  Dtype \n",
      "---  ------          --------------  ----- \n",
      " 0   month           5280 non-null   object\n",
      " 1   component_id    5280 non-null   object\n",
      " 2   forecast_units  5280 non-null   int64 \n",
      "dtypes: int64(1), object(2)\n",
      "memory usage: 123.9+ KB\n"
     ]
    }
   ],
   "source": [
    "forecasts.info()"
   ]
  },
  {
   "cell_type": "code",
   "execution_count": 21,
   "id": "5fbfbe01",
   "metadata": {},
   "outputs": [
    {
     "name": "stdout",
     "output_type": "stream",
     "text": [
      "Quantity range: 2024-02 to 2025-11\n"
     ]
    }
   ],
   "source": [
    "#check for range\n",
    "min_date = forecasts['month'].min()\n",
    "max_date = forecasts['month'].max()\n",
    "print(f\"Quantity range: {min_date} to {max_date}\")"
   ]
  },
  {
   "cell_type": "code",
   "execution_count": 22,
   "id": "51a75cfc",
   "metadata": {},
   "outputs": [],
   "source": [
    "invent = pd.read_csv(\"raw_data/inventory_levels.csv\")"
   ]
  },
  {
   "cell_type": "code",
   "execution_count": 23,
   "id": "78aa6cec",
   "metadata": {},
   "outputs": [
    {
     "data": {
      "text/html": [
       "<div>\n",
       "<style scoped>\n",
       "    .dataframe tbody tr th:only-of-type {\n",
       "        vertical-align: middle;\n",
       "    }\n",
       "\n",
       "    .dataframe tbody tr th {\n",
       "        vertical-align: top;\n",
       "    }\n",
       "\n",
       "    .dataframe thead th {\n",
       "        text-align: right;\n",
       "    }\n",
       "</style>\n",
       "<table border=\"1\" class=\"dataframe\">\n",
       "  <thead>\n",
       "    <tr style=\"text-align: right;\">\n",
       "      <th></th>\n",
       "      <th>date</th>\n",
       "      <th>component_id</th>\n",
       "      <th>opening_stock</th>\n",
       "      <th>stock_in</th>\n",
       "      <th>stock_out</th>\n",
       "      <th>closing_stock</th>\n",
       "    </tr>\n",
       "  </thead>\n",
       "  <tbody>\n",
       "    <tr>\n",
       "      <th>0</th>\n",
       "      <td>2024-02-19</td>\n",
       "      <td>C0001</td>\n",
       "      <td>162</td>\n",
       "      <td>0</td>\n",
       "      <td>10</td>\n",
       "      <td>152</td>\n",
       "    </tr>\n",
       "    <tr>\n",
       "      <th>1</th>\n",
       "      <td>2024-02-20</td>\n",
       "      <td>C0001</td>\n",
       "      <td>152</td>\n",
       "      <td>0</td>\n",
       "      <td>2</td>\n",
       "      <td>150</td>\n",
       "    </tr>\n",
       "    <tr>\n",
       "      <th>2</th>\n",
       "      <td>2024-02-21</td>\n",
       "      <td>C0001</td>\n",
       "      <td>150</td>\n",
       "      <td>0</td>\n",
       "      <td>4</td>\n",
       "      <td>146</td>\n",
       "    </tr>\n",
       "    <tr>\n",
       "      <th>3</th>\n",
       "      <td>2024-02-22</td>\n",
       "      <td>C0001</td>\n",
       "      <td>146</td>\n",
       "      <td>0</td>\n",
       "      <td>11</td>\n",
       "      <td>135</td>\n",
       "    </tr>\n",
       "    <tr>\n",
       "      <th>4</th>\n",
       "      <td>2024-02-23</td>\n",
       "      <td>C0001</td>\n",
       "      <td>135</td>\n",
       "      <td>0</td>\n",
       "      <td>5</td>\n",
       "      <td>130</td>\n",
       "    </tr>\n",
       "  </tbody>\n",
       "</table>\n",
       "</div>"
      ],
      "text/plain": [
       "         date component_id  opening_stock  stock_in  stock_out  closing_stock\n",
       "0  2024-02-19        C0001            162         0         10            152\n",
       "1  2024-02-20        C0001            152         0          2            150\n",
       "2  2024-02-21        C0001            150         0          4            146\n",
       "3  2024-02-22        C0001            146         0         11            135\n",
       "4  2024-02-23        C0001            135         0          5            130"
      ]
     },
     "execution_count": 23,
     "metadata": {},
     "output_type": "execute_result"
    }
   ],
   "source": [
    "invent.head()"
   ]
  },
  {
   "cell_type": "code",
   "execution_count": 24,
   "id": "73543ab8",
   "metadata": {},
   "outputs": [
    {
     "name": "stdout",
     "output_type": "stream",
     "text": [
      "<class 'pandas.core.frame.DataFrame'>\n",
      "RangeIndex: 151200 entries, 0 to 151199\n",
      "Data columns (total 6 columns):\n",
      " #   Column         Non-Null Count   Dtype \n",
      "---  ------         --------------   ----- \n",
      " 0   date           151200 non-null  object\n",
      " 1   component_id   151200 non-null  object\n",
      " 2   opening_stock  151200 non-null  int64 \n",
      " 3   stock_in       151200 non-null  int64 \n",
      " 4   stock_out      151200 non-null  int64 \n",
      " 5   closing_stock  151200 non-null  int64 \n",
      "dtypes: int64(4), object(2)\n",
      "memory usage: 6.9+ MB\n"
     ]
    }
   ],
   "source": [
    "invent.info()"
   ]
  },
  {
   "cell_type": "code",
   "execution_count": 25,
   "id": "04b72081",
   "metadata": {},
   "outputs": [],
   "source": [
    "invent['date'] = pd.to_datetime(invent['date'], errors='coerce')\n"
   ]
  },
  {
   "cell_type": "code",
   "execution_count": 26,
   "id": "d76c5c10",
   "metadata": {},
   "outputs": [
    {
     "name": "stdout",
     "output_type": "stream",
     "text": [
      "Found 139,898 rows with negative stock values\n",
      "         date component_id  opening_stock  stock_in  stock_out  closing_stock\n",
      "24 2024-03-14        C0001              0         0          6             -6\n",
      "25 2024-03-15        C0001             -6         0          6            -12\n",
      "26 2024-03-16        C0001            -12         0          7            -19\n",
      "27 2024-03-17        C0001            -19         0          3            -22\n",
      "28 2024-03-18        C0001            -22         0          5            -27\n",
      "29 2024-03-19        C0001            -27         0         12            -39\n",
      "30 2024-03-20        C0001            -39         0          8            -47\n",
      "31 2024-03-21        C0001            -47         0         13            -60\n",
      "32 2024-03-22        C0001            -60         0          8            -68\n",
      "33 2024-03-23        C0001            -68         0          7            -75\n"
     ]
    }
   ],
   "source": [
    "# Find rows where opening or closing stock is negative\n",
    "neg_stock = invent[\n",
    "    (invent[\"opening_stock\"] < 0) | (invent[\"closing_stock\"] < 0)\n",
    "].copy()\n",
    "\n",
    "print(f\"Found {len(neg_stock):,} rows with negative stock values\")\n",
    "print(neg_stock.head(10))"
   ]
  },
  {
   "cell_type": "code",
   "execution_count": 27,
   "id": "a49809b6",
   "metadata": {},
   "outputs": [
    {
     "name": "stdout",
     "output_type": "stream",
     "text": [
      "Negative stock values replaced with 0\n"
     ]
    }
   ],
   "source": [
    "# Replace negative opening_stock and closing_stock with 0\n",
    "invent[\"opening_stock\"] = invent[\"opening_stock\"].clip(lower=0)\n",
    "invent[\"closing_stock\"] = invent[\"closing_stock\"].clip(lower=0)\n",
    "\n",
    "print(\"Negative stock values replaced with 0\")\n"
   ]
  },
  {
   "cell_type": "code",
   "execution_count": 28,
   "id": "57e88cd4",
   "metadata": {},
   "outputs": [],
   "source": [
    "production = pd.read_csv(\"raw_data/production_orders.csv\")"
   ]
  },
  {
   "cell_type": "code",
   "execution_count": 29,
   "id": "81e271c4",
   "metadata": {},
   "outputs": [
    {
     "name": "stdout",
     "output_type": "stream",
     "text": [
      "<class 'pandas.core.frame.DataFrame'>\n",
      "RangeIndex: 151200 entries, 0 to 151199\n",
      "Data columns (total 5 columns):\n",
      " #   Column          Non-Null Count   Dtype \n",
      "---  ------          --------------   ----- \n",
      " 0   prod_order_id   151200 non-null  object\n",
      " 1   date            151200 non-null  object\n",
      " 2   component_id    151200 non-null  object\n",
      " 3   units_required  151200 non-null  int64 \n",
      " 4   units_issued    151200 non-null  int64 \n",
      "dtypes: int64(2), object(3)\n",
      "memory usage: 5.8+ MB\n"
     ]
    }
   ],
   "source": [
    "production.info()"
   ]
  },
  {
   "cell_type": "code",
   "execution_count": 30,
   "id": "e985c1fc",
   "metadata": {},
   "outputs": [],
   "source": [
    "production['date'] = pd.to_datetime(production['date'], errors='coerce')\n"
   ]
  },
  {
   "cell_type": "code",
   "execution_count": 31,
   "id": "e9ca4a4b",
   "metadata": {},
   "outputs": [
    {
     "name": "stdout",
     "output_type": "stream",
     "text": [
      "Cleaned supplier_name; removed 0 duplicates\n"
     ]
    }
   ],
   "source": [
    "suppliers = pd.read_csv(\"raw_data/suppliers.csv\")\n",
    "\n",
    "# Strip leading/trailing spaces\n",
    "suppliers[\"supplier_name\"] = suppliers[\"supplier_name\"].str.strip()\n",
    "\n",
    "# Standardize casing (Title Case)\n",
    "suppliers[\"supplier_name\"] = suppliers[\"supplier_name\"].str.title()\n",
    "\n",
    "# Remove duplicate suppliers if any\n",
    "before = len(suppliers)\n",
    "suppliers = suppliers.drop_duplicates(subset=[\"supplier_name\"])\n",
    "after = len(suppliers)\n",
    "\n",
    "print(f\"Cleaned supplier_name; removed {before - after} duplicates\")\n"
   ]
  },
  {
   "cell_type": "code",
   "execution_count": 36,
   "id": "8c1dd695",
   "metadata": {},
   "outputs": [],
   "source": [
    "deliv = deliv.drop(columns=[\"pending_delivery\"], errors=\"ignore\")"
   ]
  },
  {
   "cell_type": "code",
   "execution_count": 37,
   "id": "bedc1965",
   "metadata": {},
   "outputs": [],
   "source": [
    "# save cleaned data\n",
    "components.to_csv(\"cleaned_data/components.csv\", index=False)\n",
    "invent.to_csv(\"cleaned_data/inventory_levels.csv\", index=False)\n",
    "deliv.to_csv(\"cleaned_data/delivery_logs.csv\", index=False)\n",
    "production.to_csv(\"cleaned_data/production_orders.csv\", index=False)\n",
    "forecasts.to_csv(\"cleaned_data/forecasts.csv\", index=False)\n",
    "suppliers.to_csv(\"cleaned_data/suppliers.csv\", index=False)"
   ]
  }
 ],
 "metadata": {
  "kernelspec": {
   "display_name": "Python 3",
   "language": "python",
   "name": "python3"
  },
  "language_info": {
   "codemirror_mode": {
    "name": "ipython",
    "version": 3
   },
   "file_extension": ".py",
   "mimetype": "text/x-python",
   "name": "python",
   "nbconvert_exporter": "python",
   "pygments_lexer": "ipython3",
   "version": "3.13.5"
  }
 },
 "nbformat": 4,
 "nbformat_minor": 5
}
